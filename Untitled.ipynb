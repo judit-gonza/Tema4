{
 "cells": [
  {
   "cell_type": "markdown",
   "metadata": {},
   "source": [
    "$$\n",
    "W(t) = X\\cos(\\omega_{0}t) + Y\\sin(\\omega_{0}t)\n",
    "$$\n",
    "\n",
    "$$\n",
    "\\omega_{0}\n",
    "$$\n",
    "\n",
    "$$\n",
    "\\sigma_{X}^2= \\sigma_{Y}^2 = \\sigma^2\n",
    "$$\n",
    "\n",
    "$$\n",
    "Rww(\\tau) = \\sigma^2\\cos(\\omega_{0}\\tau)\n",
    "$$"
   ]
  },
  {
   "cell_type": "code",
   "execution_count": null,
   "metadata": {},
   "outputs": [],
   "source": []
  }
 ],
 "metadata": {
  "kernelspec": {
   "display_name": "Python 3",
   "language": "python",
   "name": "python3"
  },
  "language_info": {
   "codemirror_mode": {
    "name": "ipython",
    "version": 3
   },
   "file_extension": ".py",
   "mimetype": "text/x-python",
   "name": "python",
   "nbconvert_exporter": "python",
   "pygments_lexer": "ipython3",
   "version": "3.8.3"
  }
 },
 "nbformat": 4,
 "nbformat_minor": 4
}
